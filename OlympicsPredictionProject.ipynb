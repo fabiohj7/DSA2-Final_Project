{
 "cells": [
  {
   "cell_type": "code",
   "execution_count": 1,
   "id": "d4996851-91fb-4e16-8f10-a149d72f3dc8",
   "metadata": {},
   "outputs": [],
   "source": [
    "import numpy as np\n",
    "import pandas as pd\n",
    "import seaborn as sns\n",
    "import matplotlib.pyplot as plt"
   ]
  },
  {
   "cell_type": "code",
   "execution_count": 4,
   "id": "811fa291-f20e-4dda-a4ac-538fdc6d31c5",
   "metadata": {},
   "outputs": [
    {
     "name": "stdout",
     "output_type": "stream",
     "text": [
      "   ID                      Name Sex   Age  Height  Weight            Team  \\\n",
      "0   1                 A Dijiang   M  24.0   180.0    80.0           China   \n",
      "1   2                  A Lamusi   M  23.0   170.0    60.0           China   \n",
      "2   3       Gunnar Nielsen Aaby   M  24.0     NaN     NaN         Denmark   \n",
      "3   4      Edgar Lindenau Aabye   M  34.0     NaN     NaN  Denmark/Sweden   \n",
      "4   5  Christine Jacoba Aaftink   F  21.0   185.0    82.0     Netherlands   \n",
      "\n",
      "   NOC        Games  Year  Season       City          Sport  \\\n",
      "0  CHN  1992 Summer  1992  Summer  Barcelona     Basketball   \n",
      "1  CHN  2012 Summer  2012  Summer     London           Judo   \n",
      "2  DEN  1920 Summer  1920  Summer  Antwerpen       Football   \n",
      "3  DEN  1900 Summer  1900  Summer      Paris     Tug-Of-War   \n",
      "4  NED  1988 Winter  1988  Winter    Calgary  Speed Skating   \n",
      "\n",
      "                              Event Medal       region notes  \n",
      "0       Basketball Men's Basketball   NaN        China   NaN  \n",
      "1      Judo Men's Extra-Lightweight   NaN        China   NaN  \n",
      "2           Football Men's Football   NaN      Denmark   NaN  \n",
      "3       Tug-Of-War Men's Tug-Of-War  Gold      Denmark   NaN  \n",
      "4  Speed Skating Women's 500 metres   NaN  Netherlands   NaN  \n",
      "Missing regions: 370\n"
     ]
    }
   ],
   "source": [
    "# Load and read the datasets \n",
    "athlete_events = pd.read_csv('/Users/mrs.williams/Desktop/Data Science Project 2/archive 2/athlete_events.csv')\n",
    "noc_regions = pd.read_csv('/Users/mrs.williams/Desktop/Data Science Project 2/archive 2/noc_regions.csv')\n",
    "\n",
    "# Merge the datasets on the 'NOC' column\n",
    "merged_data = athlete_events.merge(noc_regions, on='NOC', how='left')\n",
    "\n",
    "# Display the first few rows of the merged dataset\n",
    "print(merged_data.head())\n",
    "\n",
    "# Check for missing values in the 'region' column\n",
    "missing_regions = merged_data['region'].isnull().sum()\n",
    "print(f\"Missing regions: {missing_regions}\")\n"
   ]
  },
  {
   "cell_type": "code",
   "execution_count": 7,
   "id": "3b193860-8af7-407d-983d-f1ac7c160580",
   "metadata": {},
   "outputs": [
    {
     "name": "stdout",
     "output_type": "stream",
     "text": [
      "Missing values before cleaning:\n",
      " ID             0\n",
      "Name           0\n",
      "Sex            0\n",
      "Age         9474\n",
      "Height     60171\n",
      "Weight     62875\n",
      "Team           0\n",
      "NOC            0\n",
      "Games          0\n",
      "Year           0\n",
      "Season         0\n",
      "City           0\n",
      "Sport          0\n",
      "Event          0\n",
      "Medal     231333\n",
      "region       370\n",
      "notes     266077\n",
      "dtype: int64\n",
      "Missing values after cleaning:\n",
      " ID               0\n",
      "Name             0\n",
      "Sex              0\n",
      "Age           9315\n",
      "Height       58814\n",
      "Weight       61527\n",
      "Team             0\n",
      "NOC              0\n",
      "Games            0\n",
      "Year             0\n",
      "Season           0\n",
      "City             0\n",
      "Sport            0\n",
      "Event            0\n",
      "Medal            0\n",
      "region         370\n",
      "Medal_Won        0\n",
      "dtype: int64\n",
      "   ID                      Name Sex   Age  Height  Weight            Team  \\\n",
      "0   1                 A Dijiang   m  24.0   180.0    80.0           China   \n",
      "1   2                  A Lamusi   m  23.0   170.0    60.0           China   \n",
      "2   3       Gunnar Nielsen Aaby   m  24.0     NaN     NaN         Denmark   \n",
      "3   4      Edgar Lindenau Aabye   m  34.0     NaN     NaN  Denmark/Sweden   \n",
      "4   5  Christine Jacoba Aaftink   f  21.0   185.0    82.0     Netherlands   \n",
      "\n",
      "   NOC        Games  Year  Season       City          Sport  \\\n",
      "0  CHN  1992 Summer  1992  Summer  Barcelona     basketball   \n",
      "1  CHN  2012 Summer  2012  Summer     London           judo   \n",
      "2  DEN  1920 Summer  1920  Summer  Antwerpen       football   \n",
      "3  DEN  1900 Summer  1900  Summer      Paris     tug-of-war   \n",
      "4  NED  1988 Winter  1988  Winter    Calgary  speed skating   \n",
      "\n",
      "                              Event     Medal       region  Medal_Won  \n",
      "0       Basketball Men's Basketball  No Medal        China          0  \n",
      "1      Judo Men's Extra-Lightweight  No Medal        China          0  \n",
      "2           Football Men's Football  No Medal      Denmark          0  \n",
      "3       Tug-Of-War Men's Tug-Of-War      Gold      Denmark          1  \n",
      "4  Speed Skating Women's 500 metres  No Medal  Netherlands          0  \n"
     ]
    }
   ],
   "source": [
    "# Check for missing values\n",
    "missing_values = merged_data.isnull().sum()\n",
    "print(\"Missing values before cleaning:\\n\", missing_values)\n",
    "\n",
    "# Drop irrelevant columns (such as 'notes')\n",
    "cleaned_data = merged_data.drop(columns=['notes'])\n",
    "\n",
    "# Handle missing values for 'Medal'\n",
    "cleaned_data['Medal'] = cleaned_data['Medal'].fillna('No Medal')\n",
    "\n",
    "# Remove duplicate rows\n",
    "cleaned_data = cleaned_data.drop_duplicates()\n",
    "\n",
    "# Standardize text data (lowercase for consistency)\n",
    "cleaned_data['Sex'] = cleaned_data['Sex'].str.lower()\n",
    "cleaned_data['Sport'] = cleaned_data['Sport'].str.lower()\n",
    "\n",
    "# Add a binary column for medal presence\n",
    "cleaned_data['Medal_Won'] = cleaned_data['Medal'].apply(lambda x: 0 if x == 'No Medal' else 1)\n",
    "\n",
    "# Check for missing values after cleaning\n",
    "missing_values_after_cleaning = cleaned_data.isnull().sum()\n",
    "print(\"Missing values after cleaning:\\n\", missing_values_after_cleaning)\n",
    "\n",
    "print(cleaned_data.head())"
   ]
  },
  {
   "cell_type": "code",
   "execution_count": null,
   "id": "f8c2a2d2-a8ee-4ad7-82c9-dab2f5edb8a1",
   "metadata": {},
   "outputs": [],
   "source": []
  }
 ],
 "metadata": {
  "kernelspec": {
   "display_name": "Python 3 (ipykernel)",
   "language": "python",
   "name": "python3"
  },
  "language_info": {
   "codemirror_mode": {
    "name": "ipython",
    "version": 3
   },
   "file_extension": ".py",
   "mimetype": "text/x-python",
   "name": "python",
   "nbconvert_exporter": "python",
   "pygments_lexer": "ipython3",
   "version": "3.12.6"
  }
 },
 "nbformat": 4,
 "nbformat_minor": 5
}
